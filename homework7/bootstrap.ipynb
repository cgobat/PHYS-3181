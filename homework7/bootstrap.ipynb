{
 "cells": [
  {
   "cell_type": "code",
   "execution_count": 30,
   "id": "sorted-society",
   "metadata": {},
   "outputs": [],
   "source": [
    "import numpy as np, matplotlib.pyplot as plt, pandas as pd\n",
    "from scipy.optimize import curve_fit"
   ]
  },
  {
   "cell_type": "code",
   "execution_count": 19,
   "id": "returning-equipment",
   "metadata": {},
   "outputs": [],
   "source": [
    "data = pd.read_table(\"bootstrap.dat\",delimiter=\" \",header=0,names=[\"t\",\"y\"])"
   ]
  },
  {
   "cell_type": "code",
   "execution_count": 29,
   "id": "canadian-programming",
   "metadata": {},
   "outputs": [
    {
     "data": {
      "text/plain": [
       "{0.0: {'ymean': 16381.323999999999, 'stdev': 101.90325885690089},\n",
       " 0.5: {'ymean': 16380.892, 'stdev': 101.56298307608516},\n",
       " 1.0: {'ymean': 16377.565, 'stdev': 102.51699575773742},\n",
       " 1.5: {'ymean': 16371.346000000001, 'stdev': 101.98314618136905},\n",
       " 2.0: {'ymean': 16364.338, 'stdev': 101.29637561695542},\n",
       " 2.5: {'ymean': 16352.602000000004, 'stdev': 103.33043884509142},\n",
       " 3.0: {'ymean': 16340.29, 'stdev': 102.21599679110905},\n",
       " 3.5: {'ymean': 16324.632000000001, 'stdev': 102.9111059766308},\n",
       " 4.0: {'ymean': 16305.999, 'stdev': 101.82101993203557},\n",
       " 4.5: {'ymean': 16286.142, 'stdev': 102.01160874720055},\n",
       " 5.0: {'ymean': 16263.033000000001, 'stdev': 101.75571862916293},\n",
       " 5.5: {'ymean': 16237.939000000002, 'stdev': 101.96680475388631},\n",
       " 6.0: {'ymean': 16210.079000000002, 'stdev': 102.88189295488205}}"
      ]
     },
     "execution_count": 29,
     "metadata": {},
     "output_type": "execute_result"
    }
   ],
   "source": [
    "summary = {}\n",
    "for t in data[\"t\"].unique():\n",
    "    heights = data[data[\"t\"]==t]\n",
    "    summary[t] = {\"ymean\":heights.y.mean(),\"stdev\":heights.y.std()}\n",
    "\n",
    "summary"
   ]
  },
  {
   "cell_type": "code",
   "execution_count": 35,
   "id": "rational-surgeon",
   "metadata": {},
   "outputs": [
    {
     "data": {
      "text/plain": [
       "array([-4.91450350e+00,  9.08746254e-01,  1.63814882e+04])"
      ]
     },
     "execution_count": 35,
     "metadata": {},
     "output_type": "execute_result"
    }
   ],
   "source": [
    "order = 2\n",
    "dof = len(summary)-1-order\n",
    "np.polyfit(list(summary.keys()),[summary[key][\"ymean\"] for key in summary.keys()],2)"
   ]
  },
  {
   "cell_type": "code",
   "execution_count": 45,
   "id": "organized-vietnam",
   "metadata": {},
   "outputs": [
    {
     "name": "stdout",
     "output_type": "stream",
     "text": [
      "g = -9.610718824812233 ± 18.385701253450087\n"
     ]
    }
   ],
   "source": [
    "gfits = []\n",
    "for i in range(10000):\n",
    "    resample = {}\n",
    "    for time,datapoint in summary.items():\n",
    "        newpoint = np.random.normal(datapoint[\"ymean\"],datapoint[\"stdev\"])\n",
    "        resample[time] = newpoint\n",
    "    coefs = np.polyfit(list(resample.keys()),list(resample.values()),order)\n",
    "    gfits.append(2*coefs[0])\n",
    "print(f\"g = {np.mean(gfits)} ± {np.std(gfits)}\")"
   ]
  },
  {
   "cell_type": "code",
   "execution_count": null,
   "id": "divine-cholesterol",
   "metadata": {},
   "outputs": [],
   "source": []
  }
 ],
 "metadata": {
  "hide_input": false,
  "kernelspec": {
   "display_name": "Python 3",
   "language": "python",
   "name": "python3"
  },
  "language_info": {
   "codemirror_mode": {
    "name": "ipython",
    "version": 3
   },
   "file_extension": ".py",
   "mimetype": "text/x-python",
   "name": "python",
   "nbconvert_exporter": "python",
   "pygments_lexer": "ipython3",
   "version": "3.8.6"
  },
  "latex_envs": {
   "LaTeX_envs_menu_present": true,
   "autoclose": true,
   "autocomplete": true,
   "bibliofile": "biblio.bib",
   "cite_by": "apalike",
   "current_citInitial": 1,
   "eqLabelWithNumbers": true,
   "eqNumInitial": 1,
   "hotkeys": {
    "equation": "Ctrl-E",
    "itemize": "Ctrl-I"
   },
   "labels_anchors": false,
   "latex_user_defs": false,
   "report_style_numbering": false,
   "user_envs_cfg": false
  },
  "toc": {
   "base_numbering": 1,
   "nav_menu": {},
   "number_sections": true,
   "sideBar": true,
   "skip_h1_title": false,
   "title_cell": "Table of Contents",
   "title_sidebar": "Contents",
   "toc_cell": false,
   "toc_position": {},
   "toc_section_display": true,
   "toc_window_display": false
  },
  "varInspector": {
   "cols": {
    "lenName": 16,
    "lenType": 16,
    "lenVar": 40
   },
   "kernels_config": {
    "python": {
     "delete_cmd_postfix": "",
     "delete_cmd_prefix": "del ",
     "library": "var_list.py",
     "varRefreshCmd": "print(var_dic_list())"
    },
    "r": {
     "delete_cmd_postfix": ") ",
     "delete_cmd_prefix": "rm(",
     "library": "var_list.r",
     "varRefreshCmd": "cat(var_dic_list()) "
    }
   },
   "types_to_exclude": [
    "module",
    "function",
    "builtin_function_or_method",
    "instance",
    "_Feature"
   ],
   "window_display": false
  }
 },
 "nbformat": 4,
 "nbformat_minor": 5
}
