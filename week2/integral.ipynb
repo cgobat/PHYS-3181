{
 "cells": [
  {
   "cell_type": "code",
   "execution_count": 1,
   "metadata": {},
   "outputs": [],
   "source": [
    "import numpy as np, matplotlib.pyplot as plt"
   ]
  },
  {
   "cell_type": "code",
   "execution_count": 2,
   "metadata": {},
   "outputs": [],
   "source": [
    "f = lambda x: 1/np.sqrt(2*(2-np.sin(x)))\n",
    "\n",
    "def integrate(Nbins,a=0,b=np.pi/2):\n",
    "    dx = (b-a)/Nbins\n",
    "    \n",
    "    integral = 0\n",
    "    for i in range(int(Nbins)):\n",
    "        integral += f(a+i*dx+0.5*dx)*dx\n",
    "        \n",
    "    return integral"
   ]
  },
  {
   "cell_type": "code",
   "execution_count": 8,
   "metadata": {},
   "outputs": [
    {
     "data": {
      "image/png": "[encoded data removed]",
      "text/plain": [
       "<Figure size 432x288 with 1 Axes>"
      ]
     },
     "metadata": {
      "needs_background": "light"
     },
     "output_type": "display_data"
    }
   ],
   "source": [
    "results = [integrate(bins) for bins in np.logspace(1,6,6)]\n",
    "exact = 0.968857653272452\n",
    "errs = np.array(results)-exact\n",
    "plt.loglog(np.logspace(1,6,6),errs,\"ok\")\n",
    "plt.xlabel(\"# of bins\")\n",
    "plt.ylabel(\"Integral error\")\n",
    "plt.show()"
   ]
  },
  {
   "cell_type": "code",
   "execution_count": null,
   "metadata": {},
   "outputs": [],
   "source": []
  }
 ],
 "metadata": {
  "kernelspec": {
   "display_name": "Python 3",
   "language": "python",
   "name": "python3"
  },
  "language_info": {
   "codemirror_mode": {
    "name": "ipython",
    "version": 3
   },
   "file_extension": ".py",
   "mimetype": "text/x-python",
   "name": "python",
   "nbconvert_exporter": "python",
   "pygments_lexer": "ipython3",
   "version": "3.8.5"
  }
 },
 "nbformat": 4,
 "nbformat_minor": 4
}
